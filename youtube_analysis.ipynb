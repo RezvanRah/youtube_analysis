{
 "cells": [
  {
   "cell_type": "markdown",
   "id": "969340fd-4646-42a1-b5fc-3b229ffc0c35",
   "metadata": {},
   "source": [
    "<h1>Taylor Swift Youtube Channel Statistics</h1>"
   ]
  },
  {
   "cell_type": "markdown",
   "id": "909b9597-75ef-46e7-9ec7-db67b643b759",
   "metadata": {},
   "source": [
    "<div>\n",
    "<img src=\"ts.jfif\" width=\"650\"/>\n",
    "</div>"
   ]
  },
  {
   "cell_type": "markdown",
   "id": "a2659c28-aa79-471b-b184-5b9bcc5942a3",
   "metadata": {},
   "source": [
    "<h4>\n",
    "I'm a big fan of Taylor Swift. I adore her talent of songwriting and we all know that she is one of the most successful music artists of all time, having sold over 50 million albums and 150 million singles worldwide. </h4>\n",
    "\n",
    "<h4>Taylor Swift uses storytelling in her music videos to illustrate the narratives in her songs visually. She has also directed several of her own music videos!</h4>\n",
    "\n",
    "<h4>With that being said, I'm so curious about the statistics of her youtube channel. She has more that 50 million subscribers and more that 25 billion views!</h4> \n",
    "    \n",
    "<h4>So let's see what's going on in Taylor's channel!</h4>\n",
    "\n",
    "<h4>(I created my own dataset using Youtube API v3)</h4>"
   ]
  },
  {
   "cell_type": "markdown",
   "id": "8a7f2b6b-64c5-464f-b5e9-982712576ab2",
   "metadata": {},
   "source": [
    "----------------------------------------------------------------------------------------------------------------------------------------\n",
    "----------------------------------------------------------------------------------------------------------------------------------------"
   ]
  },
  {
   "cell_type": "markdown",
   "id": "2050d06f-0fcd-404e-9b07-d31463136221",
   "metadata": {},
   "source": [
    "<h1>Data Pre-processing, Cleaning and EDA:</h1>"
   ]
  },
  {
   "cell_type": "code",
   "execution_count": 1,
   "id": "37c9fe6e-4385-4877-bd07-35fb370741c5",
   "metadata": {},
   "outputs": [],
   "source": [
    "#importing necessary libraries\n",
    "import pandas as pd\n",
    "import seaborn as sns\n",
    "import matplotlib.pyplot as plt\n",
    "%matplotlib inline\n",
    "import isodate"
   ]
  },
  {
   "cell_type": "code",
   "execution_count": 2,
   "id": "c56b88a5-7ebb-4107-aaa7-164898a86d8b",
   "metadata": {},
   "outputs": [],
   "source": [
    "#loading the dataset\n",
    "df = pd.read_csv('youtube_ts.csv')"
   ]
  },
  {
   "cell_type": "code",
   "execution_count": 3,
   "id": "07c30001-2ec6-4baa-88b0-302d31b73e3a",
   "metadata": {},
   "outputs": [
    {
     "name": "stdout",
     "output_type": "stream",
     "text": [
      "<class 'pandas.core.frame.DataFrame'>\n",
      "RangeIndex: 473 entries, 0 to 472\n",
      "Data columns (total 13 columns):\n",
      " #   Column          Non-Null Count  Dtype  \n",
      "---  ------          --------------  -----  \n",
      " 0   video_id        473 non-null    object \n",
      " 1   channelTitle    473 non-null    object \n",
      " 2   title           473 non-null    object \n",
      " 3   description     460 non-null    object \n",
      " 4   tags            435 non-null    object \n",
      " 5   publishedAt     473 non-null    object \n",
      " 6   viewCount       473 non-null    int64  \n",
      " 7   likeCount       472 non-null    float64\n",
      " 8   favouriteCount  0 non-null      float64\n",
      " 9   commentCount    473 non-null    int64  \n",
      " 10  duration        473 non-null    object \n",
      " 11  definition      473 non-null    object \n",
      " 12  caption         473 non-null    bool   \n",
      "dtypes: bool(1), float64(2), int64(2), object(8)\n",
      "memory usage: 44.9+ KB\n"
     ]
    }
   ],
   "source": [
    "#getting some information about the dataset\n",
    "#checking data types\n",
    "df.info()"
   ]
  },
  {
   "cell_type": "code",
   "execution_count": 4,
   "id": "8adaa1dc-9885-47de-bcae-71f46bf86163",
   "metadata": {},
   "outputs": [],
   "source": [
    "#removing unnecessary columns\n",
    "cols = ['description' , 'favouriteCount' , 'definition' , 'tags', 'caption']\n",
    "df = df.drop(cols , axis=1)"
   ]
  },
  {
   "cell_type": "code",
   "execution_count": 6,
   "id": "44d20c7e-86bd-4f62-94a3-50665f18da80",
   "metadata": {},
   "outputs": [
    {
     "data": {
      "text/plain": [
       "video_id        False\n",
       "channelTitle    False\n",
       "title           False\n",
       "publishedAt     False\n",
       "viewCount       False\n",
       "likeCount        True\n",
       "commentCount    False\n",
       "duration        False\n",
       "dtype: bool"
      ]
     },
     "execution_count": 6,
     "metadata": {},
     "output_type": "execute_result"
    }
   ],
   "source": [
    "#checking for null values\n",
    "df.isnull().any()"
   ]
  },
  {
   "cell_type": "code",
   "execution_count": 7,
   "id": "489c09bd-b595-4c87-8c60-2cd915bb926a",
   "metadata": {},
   "outputs": [],
   "source": [
    "#taking care of missing data\n",
    "#likeCount has 472 entries out of 473\n",
    "df['likeCount'] = df['likeCount'].interpolate()"
   ]
  },
  {
   "cell_type": "code",
   "execution_count": 8,
   "id": "73917094-c50f-42c2-ab98-8cfba94b4dfb",
   "metadata": {},
   "outputs": [],
   "source": [
    "# convert duration to seconds\n",
    "df['durationSecs'] = df['duration'].apply(lambda x: isodate.parse_duration(x).total_seconds())\n",
    "df = df.drop('duration' , axis=1)"
   ]
  },
  {
   "cell_type": "code",
   "execution_count": 9,
   "id": "9274d73c-8016-4d2b-a0bb-f191a269b023",
   "metadata": {},
   "outputs": [],
   "source": [
    "#Likes per 1000 view ratio\n",
    "df['likeRatio'] = df['likeCount']/ df['viewCount'] * 1000"
   ]
  },
  {
   "cell_type": "code",
   "execution_count": 10,
   "id": "30d818dc-e204-4b6b-bf41-8faf69eae99e",
   "metadata": {},
   "outputs": [],
   "source": [
    "# Convert the \"datetime\" column to a datetime object\n",
    "df[\"publishedAt\"] = pd.to_datetime(df[\"publishedAt\"])\n",
    "\n",
    "# Create new columns \"year\" and \"month\" that contain the year and month of the datetime column\n",
    "df[\"year\"] = df[\"publishedAt\"].dt.year\n",
    "df[\"month\"] = df[\"publishedAt\"].dt.month\n",
    "\n",
    "# Drop the original date column\n",
    "df.drop(\"publishedAt\", axis=1 , inplace=True)"
   ]
  },
  {
   "cell_type": "code",
   "execution_count": 11,
   "id": "b72df6cd-e431-47ab-9468-7bc646d47c5f",
   "metadata": {},
   "outputs": [
    {
     "data": {
      "text/plain": [
       "False    473\n",
       "Name: count, dtype: int64"
      ]
     },
     "execution_count": 11,
     "metadata": {},
     "output_type": "execute_result"
    }
   ],
   "source": [
    "#checking for duplicates\n",
    "df.duplicated().value_counts()"
   ]
  },
  {
   "cell_type": "code",
   "execution_count": 12,
   "id": "4ea58c34-927e-4a99-84b7-78b2b719529c",
   "metadata": {},
   "outputs": [
    {
     "data": {
      "text/html": [
       "<div>\n",
       "<style scoped>\n",
       "    .dataframe tbody tr th:only-of-type {\n",
       "        vertical-align: middle;\n",
       "    }\n",
       "\n",
       "    .dataframe tbody tr th {\n",
       "        vertical-align: top;\n",
       "    }\n",
       "\n",
       "    .dataframe thead th {\n",
       "        text-align: right;\n",
       "    }\n",
       "</style>\n",
       "<table border=\"1\" class=\"dataframe\">\n",
       "  <thead>\n",
       "    <tr style=\"text-align: right;\">\n",
       "      <th></th>\n",
       "      <th>video_id</th>\n",
       "      <th>channelTitle</th>\n",
       "      <th>title</th>\n",
       "      <th>viewCount</th>\n",
       "      <th>likeCount</th>\n",
       "      <th>commentCount</th>\n",
       "      <th>durationSecs</th>\n",
       "      <th>likeRatio</th>\n",
       "      <th>year</th>\n",
       "      <th>month</th>\n",
       "    </tr>\n",
       "  </thead>\n",
       "  <tbody>\n",
       "    <tr>\n",
       "      <th>0</th>\n",
       "      <td>anqxTwGE_nQ</td>\n",
       "      <td>Taylor Swift</td>\n",
       "      <td>Taylor Swift - Lavender Haze (Acoustic Version)</td>\n",
       "      <td>910278</td>\n",
       "      <td>65959.0</td>\n",
       "      <td>3315</td>\n",
       "      <td>180.0</td>\n",
       "      <td>72.460281</td>\n",
       "      <td>2023</td>\n",
       "      <td>3</td>\n",
       "    </tr>\n",
       "    <tr>\n",
       "      <th>1</th>\n",
       "      <td>kE31ShDEOwg</td>\n",
       "      <td>Taylor Swift</td>\n",
       "      <td>Taylor Swift - Lavender Haze (Snakehips Remix)</td>\n",
       "      <td>458508</td>\n",
       "      <td>14623.0</td>\n",
       "      <td>892</td>\n",
       "      <td>191.0</td>\n",
       "      <td>31.892573</td>\n",
       "      <td>2023</td>\n",
       "      <td>3</td>\n",
       "    </tr>\n",
       "    <tr>\n",
       "      <th>2</th>\n",
       "      <td>nfFujEdM0_E</td>\n",
       "      <td>Taylor Swift</td>\n",
       "      <td>Taylor Swift - Lavender Haze (Jungle Remix)</td>\n",
       "      <td>198248</td>\n",
       "      <td>13399.0</td>\n",
       "      <td>1029</td>\n",
       "      <td>239.0</td>\n",
       "      <td>67.587063</td>\n",
       "      <td>2023</td>\n",
       "      <td>3</td>\n",
       "    </tr>\n",
       "    <tr>\n",
       "      <th>3</th>\n",
       "      <td>ZZtamrXjB_w</td>\n",
       "      <td>Taylor Swift</td>\n",
       "      <td>Taylor Swift - Lavender Haze (Tensnake Remix)</td>\n",
       "      <td>184359</td>\n",
       "      <td>13490.0</td>\n",
       "      <td>756</td>\n",
       "      <td>218.0</td>\n",
       "      <td>73.172452</td>\n",
       "      <td>2023</td>\n",
       "      <td>3</td>\n",
       "    </tr>\n",
       "    <tr>\n",
       "      <th>4</th>\n",
       "      <td>pCH19_8E4Hw</td>\n",
       "      <td>Taylor Swift</td>\n",
       "      <td>Taylor Swift - Lavender Haze (Behind The Scenes)</td>\n",
       "      <td>916936</td>\n",
       "      <td>98380.0</td>\n",
       "      <td>3491</td>\n",
       "      <td>212.0</td>\n",
       "      <td>107.292112</td>\n",
       "      <td>2023</td>\n",
       "      <td>3</td>\n",
       "    </tr>\n",
       "  </tbody>\n",
       "</table>\n",
       "</div>"
      ],
      "text/plain": [
       "      video_id  channelTitle   \n",
       "0  anqxTwGE_nQ  Taylor Swift  \\\n",
       "1  kE31ShDEOwg  Taylor Swift   \n",
       "2  nfFujEdM0_E  Taylor Swift   \n",
       "3  ZZtamrXjB_w  Taylor Swift   \n",
       "4  pCH19_8E4Hw  Taylor Swift   \n",
       "\n",
       "                                              title  viewCount  likeCount   \n",
       "0   Taylor Swift - Lavender Haze (Acoustic Version)     910278    65959.0  \\\n",
       "1    Taylor Swift - Lavender Haze (Snakehips Remix)     458508    14623.0   \n",
       "2       Taylor Swift - Lavender Haze (Jungle Remix)     198248    13399.0   \n",
       "3     Taylor Swift - Lavender Haze (Tensnake Remix)     184359    13490.0   \n",
       "4  Taylor Swift - Lavender Haze (Behind The Scenes)     916936    98380.0   \n",
       "\n",
       "   commentCount  durationSecs   likeRatio  year  month  \n",
       "0          3315         180.0   72.460281  2023      3  \n",
       "1           892         191.0   31.892573  2023      3  \n",
       "2          1029         239.0   67.587063  2023      3  \n",
       "3           756         218.0   73.172452  2023      3  \n",
       "4          3491         212.0  107.292112  2023      3  "
      ]
     },
     "execution_count": 12,
     "metadata": {},
     "output_type": "execute_result"
    }
   ],
   "source": [
    "df.head(5)"
   ]
  },
  {
   "cell_type": "markdown",
   "id": "ec358714-6eb3-4b7d-8c7f-9f6710ac3e4b",
   "metadata": {},
   "source": [
    "<h2>We want to know the top 10 videos that got the most views, the most likes, and the most comments:</h2>"
   ]
  },
  {
   "cell_type": "code",
   "execution_count": 13,
   "id": "cabedbf6-80ac-4489-87bc-a3bffe1fbff3",
   "metadata": {},
   "outputs": [],
   "source": [
    "def top_ten(column_of_interest,column_stats):\n",
    "    \n",
    "    ddf = df.groupby(column_of_interest)[['viewCount', 'likeCount', 'commentCount']].apply(lambda x: x.astype(int).sum())\n",
    "    \n",
    "    return ddf.sort_values(by=column_stats, ascending=False).head(10)\n"
   ]
  },
  {
   "cell_type": "markdown",
   "id": "e61d690e-d045-4ab6-9fe8-98cfa94b4ed7",
   "metadata": {},
   "source": [
    "<h2>The most viewed:</h2>\n",
    "<h3>\"Shake it off\" is number 1 with more than 3 billion views!!</h3>"
   ]
  },
  {
   "cell_type": "code",
   "execution_count": 14,
   "id": "8be28f81-881b-4362-afca-a9da426125c4",
   "metadata": {},
   "outputs": [
    {
     "data": {
      "text/html": [
       "<div>\n",
       "<style scoped>\n",
       "    .dataframe tbody tr th:only-of-type {\n",
       "        vertical-align: middle;\n",
       "    }\n",
       "\n",
       "    .dataframe tbody tr th {\n",
       "        vertical-align: top;\n",
       "    }\n",
       "\n",
       "    .dataframe thead th {\n",
       "        text-align: right;\n",
       "    }\n",
       "</style>\n",
       "<table border=\"1\" class=\"dataframe\">\n",
       "  <thead>\n",
       "    <tr style=\"text-align: right;\">\n",
       "      <th></th>\n",
       "      <th>viewCount</th>\n",
       "      <th>likeCount</th>\n",
       "      <th>commentCount</th>\n",
       "    </tr>\n",
       "    <tr>\n",
       "      <th>title</th>\n",
       "      <th></th>\n",
       "      <th></th>\n",
       "      <th></th>\n",
       "    </tr>\n",
       "  </thead>\n",
       "  <tbody>\n",
       "    <tr>\n",
       "      <th>Taylor Swift - Shake It Off</th>\n",
       "      <td>3278581125</td>\n",
       "      <td>12479824</td>\n",
       "      <td>567778</td>\n",
       "    </tr>\n",
       "    <tr>\n",
       "      <th>Taylor Swift - Blank Space</th>\n",
       "      <td>3144996554</td>\n",
       "      <td>14358023</td>\n",
       "      <td>629012</td>\n",
       "    </tr>\n",
       "    <tr>\n",
       "      <th>Taylor Swift - Bad Blood ft. Kendrick Lamar</th>\n",
       "      <td>1547642113</td>\n",
       "      <td>9590490</td>\n",
       "      <td>463193</td>\n",
       "    </tr>\n",
       "    <tr>\n",
       "      <th>Taylor Swift - You Belong With Me</th>\n",
       "      <td>1429787194</td>\n",
       "      <td>9311358</td>\n",
       "      <td>424296</td>\n",
       "    </tr>\n",
       "    <tr>\n",
       "      <th>Taylor Swift - Look What You Made Me Do</th>\n",
       "      <td>1396922798</td>\n",
       "      <td>12762572</td>\n",
       "      <td>745965</td>\n",
       "    </tr>\n",
       "    <tr>\n",
       "      <th>Taylor Swift - Wildest Dreams</th>\n",
       "      <td>867928578</td>\n",
       "      <td>5248801</td>\n",
       "      <td>230763</td>\n",
       "    </tr>\n",
       "    <tr>\n",
       "      <th>Taylor Swift - Style</th>\n",
       "      <td>760149349</td>\n",
       "      <td>3808259</td>\n",
       "      <td>157257</td>\n",
       "    </tr>\n",
       "    <tr>\n",
       "      <th>Taylor Swift - We Are Never Ever Getting Back Together</th>\n",
       "      <td>726170761</td>\n",
       "      <td>3996406</td>\n",
       "      <td>221429</td>\n",
       "    </tr>\n",
       "    <tr>\n",
       "      <th>ZAYN, Taylor Swift - I Don’t Wanna Live Forever (Fifty Shades Darker)</th>\n",
       "      <td>700477082</td>\n",
       "      <td>5048251</td>\n",
       "      <td>133417</td>\n",
       "    </tr>\n",
       "    <tr>\n",
       "      <th>Taylor Swift - Love Story</th>\n",
       "      <td>673321909</td>\n",
       "      <td>4778039</td>\n",
       "      <td>198463</td>\n",
       "    </tr>\n",
       "  </tbody>\n",
       "</table>\n",
       "</div>"
      ],
      "text/plain": [
       "                                                     viewCount  likeCount   \n",
       "title                                                                       \n",
       "Taylor Swift - Shake It Off                         3278581125   12479824  \\\n",
       "Taylor Swift - Blank Space                          3144996554   14358023   \n",
       "Taylor Swift - Bad Blood ft. Kendrick Lamar         1547642113    9590490   \n",
       "Taylor Swift - You Belong With Me                   1429787194    9311358   \n",
       "Taylor Swift - Look What You Made Me Do             1396922798   12762572   \n",
       "Taylor Swift - Wildest Dreams                        867928578    5248801   \n",
       "Taylor Swift - Style                                 760149349    3808259   \n",
       "Taylor Swift - We Are Never Ever Getting Back T...   726170761    3996406   \n",
       "ZAYN, Taylor Swift - I Don’t Wanna Live Forever...   700477082    5048251   \n",
       "Taylor Swift - Love Story                            673321909    4778039   \n",
       "\n",
       "                                                    commentCount  \n",
       "title                                                             \n",
       "Taylor Swift - Shake It Off                               567778  \n",
       "Taylor Swift - Blank Space                                629012  \n",
       "Taylor Swift - Bad Blood ft. Kendrick Lamar               463193  \n",
       "Taylor Swift - You Belong With Me                         424296  \n",
       "Taylor Swift - Look What You Made Me Do                   745965  \n",
       "Taylor Swift - Wildest Dreams                             230763  \n",
       "Taylor Swift - Style                                      157257  \n",
       "Taylor Swift - We Are Never Ever Getting Back T...        221429  \n",
       "ZAYN, Taylor Swift - I Don’t Wanna Live Forever...        133417  \n",
       "Taylor Swift - Love Story                                 198463  "
      ]
     },
     "execution_count": 14,
     "metadata": {},
     "output_type": "execute_result"
    }
   ],
   "source": [
    "top_ten('title','viewCount')"
   ]
  },
  {
   "cell_type": "markdown",
   "id": "16ecb2ba-9265-40af-9771-d822b5e58ed8",
   "metadata": {},
   "source": [
    "<h2>The most liked:</h2>\n",
    "<h3>\"Blank Space\" is a fan favorite! With more than 14 million likes, it's number 1!</h3>"
   ]
  },
  {
   "cell_type": "code",
   "execution_count": 15,
   "id": "0d31caf4-614b-4210-9587-2b117d593c30",
   "metadata": {},
   "outputs": [
    {
     "data": {
      "text/html": [
       "<div>\n",
       "<style scoped>\n",
       "    .dataframe tbody tr th:only-of-type {\n",
       "        vertical-align: middle;\n",
       "    }\n",
       "\n",
       "    .dataframe tbody tr th {\n",
       "        vertical-align: top;\n",
       "    }\n",
       "\n",
       "    .dataframe thead th {\n",
       "        text-align: right;\n",
       "    }\n",
       "</style>\n",
       "<table border=\"1\" class=\"dataframe\">\n",
       "  <thead>\n",
       "    <tr style=\"text-align: right;\">\n",
       "      <th></th>\n",
       "      <th>viewCount</th>\n",
       "      <th>likeCount</th>\n",
       "      <th>commentCount</th>\n",
       "    </tr>\n",
       "    <tr>\n",
       "      <th>title</th>\n",
       "      <th></th>\n",
       "      <th></th>\n",
       "      <th></th>\n",
       "    </tr>\n",
       "  </thead>\n",
       "  <tbody>\n",
       "    <tr>\n",
       "      <th>Taylor Swift - Blank Space</th>\n",
       "      <td>3144996554</td>\n",
       "      <td>14358023</td>\n",
       "      <td>629012</td>\n",
       "    </tr>\n",
       "    <tr>\n",
       "      <th>Taylor Swift - Look What You Made Me Do</th>\n",
       "      <td>1396922798</td>\n",
       "      <td>12762572</td>\n",
       "      <td>745965</td>\n",
       "    </tr>\n",
       "    <tr>\n",
       "      <th>Taylor Swift - Shake It Off</th>\n",
       "      <td>3278581125</td>\n",
       "      <td>12479824</td>\n",
       "      <td>567778</td>\n",
       "    </tr>\n",
       "    <tr>\n",
       "      <th>Taylor Swift - Bad Blood ft. Kendrick Lamar</th>\n",
       "      <td>1547642113</td>\n",
       "      <td>9590490</td>\n",
       "      <td>463193</td>\n",
       "    </tr>\n",
       "    <tr>\n",
       "      <th>Taylor Swift - You Belong With Me</th>\n",
       "      <td>1429787194</td>\n",
       "      <td>9311358</td>\n",
       "      <td>424296</td>\n",
       "    </tr>\n",
       "    <tr>\n",
       "      <th>Taylor Swift - ME! (feat. Brendon Urie of Panic! At The Disco) ft. Brendon Urie</th>\n",
       "      <td>403457982</td>\n",
       "      <td>6159095</td>\n",
       "      <td>436870</td>\n",
       "    </tr>\n",
       "    <tr>\n",
       "      <th>Taylor Swift - Wildest Dreams</th>\n",
       "      <td>867928578</td>\n",
       "      <td>5248801</td>\n",
       "      <td>230763</td>\n",
       "    </tr>\n",
       "    <tr>\n",
       "      <th>ZAYN, Taylor Swift - I Don’t Wanna Live Forever (Fifty Shades Darker)</th>\n",
       "      <td>700477082</td>\n",
       "      <td>5048251</td>\n",
       "      <td>133417</td>\n",
       "    </tr>\n",
       "    <tr>\n",
       "      <th>🫣 Join my #TSAntiHeroChallenge and share your anti-heroic traits, brought to you by YouTube Shorts.</th>\n",
       "      <td>124434764</td>\n",
       "      <td>4936065</td>\n",
       "      <td>21708</td>\n",
       "    </tr>\n",
       "    <tr>\n",
       "      <th>Taylor Swift - Love Story</th>\n",
       "      <td>673321909</td>\n",
       "      <td>4778039</td>\n",
       "      <td>198463</td>\n",
       "    </tr>\n",
       "  </tbody>\n",
       "</table>\n",
       "</div>"
      ],
      "text/plain": [
       "                                                     viewCount  likeCount   \n",
       "title                                                                       \n",
       "Taylor Swift - Blank Space                          3144996554   14358023  \\\n",
       "Taylor Swift - Look What You Made Me Do             1396922798   12762572   \n",
       "Taylor Swift - Shake It Off                         3278581125   12479824   \n",
       "Taylor Swift - Bad Blood ft. Kendrick Lamar         1547642113    9590490   \n",
       "Taylor Swift - You Belong With Me                   1429787194    9311358   \n",
       "Taylor Swift - ME! (feat. Brendon Urie of Panic...   403457982    6159095   \n",
       "Taylor Swift - Wildest Dreams                        867928578    5248801   \n",
       "ZAYN, Taylor Swift - I Don’t Wanna Live Forever...   700477082    5048251   \n",
       "🫣 Join my #TSAntiHeroChallenge and share your a...   124434764    4936065   \n",
       "Taylor Swift - Love Story                            673321909    4778039   \n",
       "\n",
       "                                                    commentCount  \n",
       "title                                                             \n",
       "Taylor Swift - Blank Space                                629012  \n",
       "Taylor Swift - Look What You Made Me Do                   745965  \n",
       "Taylor Swift - Shake It Off                               567778  \n",
       "Taylor Swift - Bad Blood ft. Kendrick Lamar               463193  \n",
       "Taylor Swift - You Belong With Me                         424296  \n",
       "Taylor Swift - ME! (feat. Brendon Urie of Panic...        436870  \n",
       "Taylor Swift - Wildest Dreams                             230763  \n",
       "ZAYN, Taylor Swift - I Don’t Wanna Live Forever...        133417  \n",
       "🫣 Join my #TSAntiHeroChallenge and share your a...         21708  \n",
       "Taylor Swift - Love Story                                 198463  "
      ]
     },
     "execution_count": 15,
     "metadata": {},
     "output_type": "execute_result"
    }
   ],
   "source": [
    "top_ten('title','likeCount')"
   ]
  },
  {
   "cell_type": "markdown",
   "id": "05c4df72-a3cf-4c33-a647-1dd3694925b8",
   "metadata": {},
   "source": [
    "<h2>The most commented:</h2>\n",
    "<h3>Fans had a lot to say about \"Look what you made me do\"! It is number 1 with more than half a million comments!</h3>"
   ]
  },
  {
   "cell_type": "code",
   "execution_count": 16,
   "id": "4182c863-766f-4586-84f2-e19274cbdefe",
   "metadata": {},
   "outputs": [
    {
     "data": {
      "text/html": [
       "<div>\n",
       "<style scoped>\n",
       "    .dataframe tbody tr th:only-of-type {\n",
       "        vertical-align: middle;\n",
       "    }\n",
       "\n",
       "    .dataframe tbody tr th {\n",
       "        vertical-align: top;\n",
       "    }\n",
       "\n",
       "    .dataframe thead th {\n",
       "        text-align: right;\n",
       "    }\n",
       "</style>\n",
       "<table border=\"1\" class=\"dataframe\">\n",
       "  <thead>\n",
       "    <tr style=\"text-align: right;\">\n",
       "      <th></th>\n",
       "      <th>viewCount</th>\n",
       "      <th>likeCount</th>\n",
       "      <th>commentCount</th>\n",
       "    </tr>\n",
       "    <tr>\n",
       "      <th>title</th>\n",
       "      <th></th>\n",
       "      <th></th>\n",
       "      <th></th>\n",
       "    </tr>\n",
       "  </thead>\n",
       "  <tbody>\n",
       "    <tr>\n",
       "      <th>Taylor Swift - Look What You Made Me Do</th>\n",
       "      <td>1396922798</td>\n",
       "      <td>12762572</td>\n",
       "      <td>745965</td>\n",
       "    </tr>\n",
       "    <tr>\n",
       "      <th>Taylor Swift - Blank Space</th>\n",
       "      <td>3144996554</td>\n",
       "      <td>14358023</td>\n",
       "      <td>629012</td>\n",
       "    </tr>\n",
       "    <tr>\n",
       "      <th>Taylor Swift - Shake It Off</th>\n",
       "      <td>3278581125</td>\n",
       "      <td>12479824</td>\n",
       "      <td>567778</td>\n",
       "    </tr>\n",
       "    <tr>\n",
       "      <th>Taylor Swift - Bad Blood ft. Kendrick Lamar</th>\n",
       "      <td>1547642113</td>\n",
       "      <td>9590490</td>\n",
       "      <td>463193</td>\n",
       "    </tr>\n",
       "    <tr>\n",
       "      <th>Taylor Swift - ME! (feat. Brendon Urie of Panic! At The Disco) ft. Brendon Urie</th>\n",
       "      <td>403457982</td>\n",
       "      <td>6159095</td>\n",
       "      <td>436870</td>\n",
       "    </tr>\n",
       "    <tr>\n",
       "      <th>Taylor Swift - You Belong With Me</th>\n",
       "      <td>1429787194</td>\n",
       "      <td>9311358</td>\n",
       "      <td>424296</td>\n",
       "    </tr>\n",
       "    <tr>\n",
       "      <th>Taylor Swift - 22</th>\n",
       "      <td>634942000</td>\n",
       "      <td>3214102</td>\n",
       "      <td>277808</td>\n",
       "    </tr>\n",
       "    <tr>\n",
       "      <th>Taylor Swift - I Knew You Were Trouble</th>\n",
       "      <td>507655084</td>\n",
       "      <td>3632137</td>\n",
       "      <td>269636</td>\n",
       "    </tr>\n",
       "    <tr>\n",
       "      <th>Taylor Swift - You Need To Calm Down</th>\n",
       "      <td>304111912</td>\n",
       "      <td>4520894</td>\n",
       "      <td>245905</td>\n",
       "    </tr>\n",
       "    <tr>\n",
       "      <th>Taylor Swift - Wildest Dreams</th>\n",
       "      <td>867928578</td>\n",
       "      <td>5248801</td>\n",
       "      <td>230763</td>\n",
       "    </tr>\n",
       "  </tbody>\n",
       "</table>\n",
       "</div>"
      ],
      "text/plain": [
       "                                                     viewCount  likeCount   \n",
       "title                                                                       \n",
       "Taylor Swift - Look What You Made Me Do             1396922798   12762572  \\\n",
       "Taylor Swift - Blank Space                          3144996554   14358023   \n",
       "Taylor Swift - Shake It Off                         3278581125   12479824   \n",
       "Taylor Swift - Bad Blood ft. Kendrick Lamar         1547642113    9590490   \n",
       "Taylor Swift - ME! (feat. Brendon Urie of Panic...   403457982    6159095   \n",
       "Taylor Swift - You Belong With Me                   1429787194    9311358   \n",
       "Taylor Swift - 22                                    634942000    3214102   \n",
       "Taylor Swift - I Knew You Were Trouble               507655084    3632137   \n",
       "Taylor Swift - You Need To Calm Down                 304111912    4520894   \n",
       "Taylor Swift - Wildest Dreams                        867928578    5248801   \n",
       "\n",
       "                                                    commentCount  \n",
       "title                                                             \n",
       "Taylor Swift - Look What You Made Me Do                   745965  \n",
       "Taylor Swift - Blank Space                                629012  \n",
       "Taylor Swift - Shake It Off                               567778  \n",
       "Taylor Swift - Bad Blood ft. Kendrick Lamar               463193  \n",
       "Taylor Swift - ME! (feat. Brendon Urie of Panic...        436870  \n",
       "Taylor Swift - You Belong With Me                         424296  \n",
       "Taylor Swift - 22                                         277808  \n",
       "Taylor Swift - I Knew You Were Trouble                    269636  \n",
       "Taylor Swift - You Need To Calm Down                      245905  \n",
       "Taylor Swift - Wildest Dreams                             230763  "
      ]
     },
     "execution_count": 16,
     "metadata": {},
     "output_type": "execute_result"
    }
   ],
   "source": [
    "top_ten('title','commentCount')"
   ]
  },
  {
   "cell_type": "markdown",
   "id": "aa31ef7a-ab8e-4c24-992b-5910421c8842",
   "metadata": {},
   "source": [
    "<h2>Total views of all videos:</h2>\n",
    "<h3>More than 25 billion times!</h3>"
   ]
  },
  {
   "cell_type": "code",
   "execution_count": 17,
   "id": "5808e084-94b6-4b41-ba45-8d686f8809fb",
   "metadata": {},
   "outputs": [
    {
     "data": {
      "text/plain": [
       "25802469490"
      ]
     },
     "execution_count": 17,
     "metadata": {},
     "output_type": "execute_result"
    }
   ],
   "source": [
    "sum_views = df['viewCount'].sum()\n",
    "sum_views"
   ]
  },
  {
   "cell_type": "markdown",
   "id": "6e713284-9afc-42ce-bf83-27fd5ea6e901",
   "metadata": {},
   "source": [
    "<h2>Average view count per video:</h2>\n",
    "<h3>More than 54 million views!</h3>"
   ]
  },
  {
   "cell_type": "code",
   "execution_count": 18,
   "id": "e10da973-992a-4ef2-929f-98224c5b4afa",
   "metadata": {},
   "outputs": [
    {
     "data": {
      "text/plain": [
       "54550675.45454545"
      ]
     },
     "execution_count": 18,
     "metadata": {},
     "output_type": "execute_result"
    }
   ],
   "source": [
    "average_views = df[\"viewCount\"].mean()\n",
    "average_views"
   ]
  },
  {
   "cell_type": "markdown",
   "id": "b5b970e7-cdb1-4e00-8ebd-e102718788b4",
   "metadata": {},
   "source": [
    "<h1>Data Visualization:</h1>"
   ]
  },
  {
   "cell_type": "markdown",
   "id": "b7124c35-6881-4a6a-aa94-973a796d681b",
   "metadata": {},
   "source": [
    "<h2>The view count over time:</h2>\n",
    "<h3>Based on our previous discovery, we found out that the video with the most views belongs to 'Shake it off'.</h3>"
   ]
  },
  {
   "cell_type": "code",
   "execution_count": 19,
   "id": "26a2bc77-7b8a-4152-a4d1-1a6d7e63a7d7",
   "metadata": {},
   "outputs": [
    {
     "data": {
      "image/png": "[encoded data removed]",
      "text/plain": [
       "<Figure size 432x288 with 1 Axes>"
      ]
     },
     "metadata": {
      "needs_background": "light"
     },
     "output_type": "display_data"
    }
   ],
   "source": [
    "df.plot(x=\"year\", y=[\"viewCount\"], kind=\"line\")\n",
    "plt.xlabel(\"year\")\n",
    "plt.ylabel(\"Count\")\n",
    "plt.title(\"View count over time\")\n",
    "plt.show()"
   ]
  },
  {
   "cell_type": "markdown",
   "id": "14376faa-15c7-4b76-9339-b21b371b60f3",
   "metadata": {},
   "source": [
    "<h3>The plot above is showing us that the most views belong to 2014.</h3>\n",
    "<h3>So here I check the info of the 'Shake it off' video, and we can see that it was published in 2014.</h3>"
   ]
  },
  {
   "cell_type": "code",
   "execution_count": 20,
   "id": "23f47432-65fc-46b5-ae59-04b7ee393bc7",
   "metadata": {},
   "outputs": [
    {
     "data": {
      "text/html": [
       "<div>\n",
       "<style scoped>\n",
       "    .dataframe tbody tr th:only-of-type {\n",
       "        vertical-align: middle;\n",
       "    }\n",
       "\n",
       "    .dataframe tbody tr th {\n",
       "        vertical-align: top;\n",
       "    }\n",
       "\n",
       "    .dataframe thead th {\n",
       "        text-align: right;\n",
       "    }\n",
       "</style>\n",
       "<table border=\"1\" class=\"dataframe\">\n",
       "  <thead>\n",
       "    <tr style=\"text-align: right;\">\n",
       "      <th></th>\n",
       "      <th>video_id</th>\n",
       "      <th>channelTitle</th>\n",
       "      <th>title</th>\n",
       "      <th>viewCount</th>\n",
       "      <th>likeCount</th>\n",
       "      <th>commentCount</th>\n",
       "      <th>durationSecs</th>\n",
       "      <th>likeRatio</th>\n",
       "      <th>year</th>\n",
       "      <th>month</th>\n",
       "    </tr>\n",
       "  </thead>\n",
       "  <tbody>\n",
       "    <tr>\n",
       "      <th>297</th>\n",
       "      <td>nfWlot6h_JM</td>\n",
       "      <td>TaylorSwiftVEVO</td>\n",
       "      <td>Taylor Swift - Shake It Off</td>\n",
       "      <td>3278581125</td>\n",
       "      <td>12479824.0</td>\n",
       "      <td>567778</td>\n",
       "      <td>242.0</td>\n",
       "      <td>3.806471</td>\n",
       "      <td>2014</td>\n",
       "      <td>8</td>\n",
       "    </tr>\n",
       "  </tbody>\n",
       "</table>\n",
       "</div>"
      ],
      "text/plain": [
       "        video_id     channelTitle                        title   viewCount   \n",
       "297  nfWlot6h_JM  TaylorSwiftVEVO  Taylor Swift - Shake It Off  3278581125  \\\n",
       "\n",
       "      likeCount  commentCount  durationSecs  likeRatio  year  month  \n",
       "297  12479824.0        567778         242.0   3.806471  2014      8  "
      ]
     },
     "execution_count": 20,
     "metadata": {},
     "output_type": "execute_result"
    }
   ],
   "source": [
    "mostview_info = df.loc[(df['title'] == 'Taylor Swift - Shake It Off')]\n",
    "mostview_info"
   ]
  },
  {
   "cell_type": "markdown",
   "id": "b06f0107-3602-4477-8e0b-74259cdc3ee2",
   "metadata": {},
   "source": [
    "<h2>The like ratio of her videos increases every year! Honestly, I'm not surprised. :))) </h2>"
   ]
  },
  {
   "cell_type": "code",
   "execution_count": 21,
   "id": "7f9f59e1-bb3b-4445-90ab-207d9681184c",
   "metadata": {},
   "outputs": [
    {
     "data": {
      "image/png": "[encoded data removed]",
      "text/plain": [
       "<Figure size 432x288 with 1 Axes>"
      ]
     },
     "metadata": {
      "needs_background": "light"
     },
     "output_type": "display_data"
    }
   ],
   "source": [
    "plt.bar(df['year'], df['likeRatio'])\n",
    "plt.show()"
   ]
  },
  {
   "cell_type": "markdown",
   "id": "7a81e4ed-d511-4e51-b32e-8ea94fda5f16",
   "metadata": {},
   "source": [
    "<h2>What kind of videos are the most popular? Short length or long ones?</h2>"
   ]
  },
  {
   "cell_type": "markdown",
   "id": "d2a662a1-8938-42ca-bd24-20d2af0f7f18",
   "metadata": {},
   "source": [
    "<h3>Most videos are between 200 and 300 seconds, which is equal to 3 to 5 minutes.</h3>"
   ]
  },
  {
   "cell_type": "code",
   "execution_count": 22,
   "id": "d3f9716d-5dd7-45c8-bdae-6b2a522e6d2b",
   "metadata": {},
   "outputs": [
    {
     "data": {
      "text/plain": [
       "<Axes: xlabel='durationSecs', ylabel='Count'>"
      ]
     },
     "execution_count": 22,
     "metadata": {},
     "output_type": "execute_result"
    },
    {
     "data": {
      "image/png": "[encoded data removed]",
      "text/plain": [
       "<Figure size 432x288 with 1 Axes>"
      ]
     },
     "metadata": {
      "needs_background": "light"
     },
     "output_type": "display_data"
    }
   ],
   "source": [
    "#1200s = 60s * 20m\n",
    "sns.histplot(data=df[df['durationSecs'] < 1200], x=\"durationSecs\", bins=30)"
   ]
  },
  {
   "cell_type": "markdown",
   "id": "9ecec66f-7985-47db-9028-fa746d299927",
   "metadata": {},
   "source": [
    "<h3>Shorter videos get more likes and comments than long videos.</h3>"
   ]
  },
  {
   "cell_type": "code",
   "execution_count": 23,
   "id": "fa74434b-3f10-4071-8591-789941ae3678",
   "metadata": {},
   "outputs": [
    {
     "data": {
      "text/plain": [
       "<Axes: xlabel='durationSecs', ylabel='likeCount'>"
      ]
     },
     "execution_count": 23,
     "metadata": {},
     "output_type": "execute_result"
    },
    {
     "data": {
      "image/png": "[encoded data removed]",
      "text/plain": [
       "<Figure size 432x288 with 2 Axes>"
      ]
     },
     "metadata": {
      "needs_background": "light"
     },
     "output_type": "display_data"
    }
   ],
   "source": [
    "fig, ax =plt.subplots(1, 2)\n",
    "sns.scatterplot(data = df, x = \"durationSecs\", y = \"commentCount\", ax=ax[0])\n",
    "sns.scatterplot(data = df, x = \"durationSecs\", y = \"likeCount\", ax=ax[1])"
   ]
  }
 ],
 "metadata": {
  "kernelspec": {
   "display_name": "Python 3 (ipykernel)",
   "language": "python",
   "name": "python3"
  },
  "language_info": {
   "codemirror_mode": {
    "name": "ipython",
    "version": 3
   },
   "file_extension": ".py",
   "mimetype": "text/x-python",
   "name": "python",
   "nbconvert_exporter": "python",
   "pygments_lexer": "ipython3",
   "version": "3.8.13"
  }
 },
 "nbformat": 4,
 "nbformat_minor": 5
}
